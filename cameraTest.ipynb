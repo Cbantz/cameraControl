{
 "cells": [
  {
   "cell_type": "code",
   "execution_count": 1,
   "metadata": {},
   "outputs": [
    {
     "data": {
      "text/plain": [
       "31013.595026722138"
      ]
     },
     "execution_count": 1,
     "metadata": {},
     "output_type": "execute_result"
    }
   ],
   "source": [
    "24358*4/3.14159"
   ]
  },
  {
   "cell_type": "code",
   "execution_count": 2,
   "metadata": {},
   "outputs": [
    {
     "data": {
      "text/plain": [
       "0.7904"
      ]
     },
     "execution_count": 2,
     "metadata": {},
     "output_type": "execute_result"
    }
   ],
   "source": [
    "1976/(1976+524)"
   ]
  },
  {
   "cell_type": "code",
   "execution_count": 4,
   "metadata": {},
   "outputs": [],
   "source": [
    "import numpy as np"
   ]
  },
  {
   "cell_type": "code",
   "execution_count": 5,
   "metadata": {},
   "outputs": [
    {
     "data": {
      "text/plain": [
       "0.7853981633974483"
      ]
     },
     "execution_count": 5,
     "metadata": {},
     "output_type": "execute_result"
    }
   ],
   "source": [
    "np.pi/4"
   ]
  },
  {
   "cell_type": "code",
   "execution_count": 2,
   "metadata": {},
   "outputs": [],
   "source": [
    "import zwoasi as asi\n",
    "import matplotlib.pyplot as plt\n",
    "import numpy as np\n",
    "\n",
    "asi.init(r\"E:\\Philip\\Documents\\ASI SDK\\lib\\x64\\ASICamera2.dll\")"
   ]
  },
  {
   "cell_type": "code",
   "execution_count": 3,
   "metadata": {},
   "outputs": [],
   "source": [
    "camera = asi.Camera(0)\n",
    "camera.set_control_value(asi.ASI_GAIN, 0)\n",
    "exptime_seconds = 0.1\n",
    "camera.set_control_value(asi.ASI_EXPOSURE, int(exptime_seconds * 1e6))\n",
    "camera.set_control_value(asi.ASI_BANDWIDTHOVERLOAD, 80)\n",
    "camera.set_image_type(asi.ASI_IMG_RAW16)"
   ]
  },
  {
   "cell_type": "code",
   "execution_count": 5,
   "metadata": {},
   "outputs": [
    {
     "data": {
      "text/plain": [
       "{'Gain': 0,\n",
       " 'Exposure': 100000,\n",
       " 'Offset': 31,\n",
       " 'BandWidth': 80,\n",
       " 'Flip': 0,\n",
       " 'AutoExpMaxGain': 200,\n",
       " 'AutoExpMaxExpMS': 30000,\n",
       " 'AutoExpTargetBrightness': 100,\n",
       " 'Temperature': 320}"
      ]
     },
     "execution_count": 5,
     "metadata": {},
     "output_type": "execute_result"
    }
   ],
   "source": [
    "camera.get_control_values()"
   ]
  },
  {
   "cell_type": "code",
   "execution_count": 9,
   "metadata": {},
   "outputs": [],
   "source": []
  },
  {
   "cell_type": "code",
   "execution_count": 12,
   "metadata": {},
   "outputs": [],
   "source": [
    "cam_properties = camera.get_camera_property()\n",
    "bit_depth = cam_properties[\"BitDepth\"]\n",
    "electron_per_adu = cam_properties[\"ElecPerADU\"]\n",
    "pixel_size = cam_properties[\"PixelSize\"]\n",
    "sensor_width_pix = cam_properties[\"MaxWidth\"]\n",
    "sensor_height_pix = cam_properties[\"MaxHeight\"]"
   ]
  },
  {
   "cell_type": "code",
   "execution_count": 16,
   "metadata": {},
   "outputs": [
    {
     "name": "stdout",
     "output_type": "stream",
     "text": [
      "The camera has a bit depth of 12 bits, so the maximum ADU is 4095.\n",
      "Each ADU corresponds to 7.92 electrons.\n",
      "The division factor is 16.\n"
     ]
    }
   ],
   "source": [
    "max_adu = 2**bit_depth - 1\n",
    "print(f\"The camera has a bit depth of {bit_depth} bits, so the maximum ADU is {max_adu}.\")\n",
    "print(f\"Each ADU corresponds to {electron_per_adu:.2f} electrons.\")\n",
    "# Need to divide the 16 bit image by x to get to the true ADU\n",
    "division_factor = 2**(16 - bit_depth)\n",
    "print(f\"The division factor is {division_factor}.\")"
   ]
  },
  {
   "cell_type": "code",
   "execution_count": 18,
   "metadata": {},
   "outputs": [
    {
     "data": {
      "text/plain": [
       "111.34"
      ]
     },
     "execution_count": 18,
     "metadata": {},
     "output_type": "execute_result"
    }
   ],
   "source": [
    "9.5*5.86*2"
   ]
  },
  {
   "cell_type": "code",
   "execution_count": null,
   "metadata": {},
   "outputs": [],
   "source": []
  }
 ],
 "metadata": {
  "kernelspec": {
   "display_name": "zwo",
   "language": "python",
   "name": "python3"
  },
  "language_info": {
   "codemirror_mode": {
    "name": "ipython",
    "version": 3
   },
   "file_extension": ".py",
   "mimetype": "text/x-python",
   "name": "python",
   "nbconvert_exporter": "python",
   "pygments_lexer": "ipython3",
   "version": "3.12.5"
  }
 },
 "nbformat": 4,
 "nbformat_minor": 2
}
